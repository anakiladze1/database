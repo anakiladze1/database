{
 "cells": [
  {
   "cell_type": "code",
   "execution_count": null,
   "id": "691c94c5-a07e-4077-b700-8d24ec4e247b",
   "metadata": {},
   "outputs": [],
   "source": []
  }
 ],
 "metadata": {
  "kernelspec": {
   "display_name": "",
   "name": ""
  },
  "language_info": {
   "name": ""
  }
 },
 "nbformat": 4,
 "nbformat_minor": 5
}
